{
 "cells": [
  {
   "cell_type": "code",
   "execution_count": 29,
   "id": "81f43db2",
   "metadata": {},
   "outputs": [
    {
     "data": {
      "text/plain": [
       "True"
      ]
     },
     "execution_count": 29,
     "metadata": {},
     "output_type": "execute_result"
    }
   ],
   "source": [
    "# 1.\n",
    "\n",
    "def is_two(x):\n",
    "    if x == 2 or x == '2':\n",
    "        return True\n",
    "    else:\n",
    "        return False\n",
    "    \n",
    "is_two(2)\n",
    "is_two('2')"
   ]
  },
  {
   "cell_type": "code",
   "execution_count": 80,
   "id": "35fcf9a1",
   "metadata": {},
   "outputs": [],
   "source": [
    "# 2\n",
    "\n",
    "def is_vowel(x):\n",
    "    if type(x) == str:\n",
    "        if len(x) == 1:\n",
    "            return x.lower() in list('aeiou')\n",
    "        else: \n",
    "            return False\n",
    "    else:\n",
    "        return False"
   ]
  },
  {
   "cell_type": "code",
   "execution_count": 16,
   "id": "376979ec",
   "metadata": {},
   "outputs": [
    {
     "data": {
      "text/plain": [
       "True"
      ]
     },
     "execution_count": 16,
     "metadata": {},
     "output_type": "execute_result"
    }
   ],
   "source": [
    "is_vowel('a')"
   ]
  },
  {
   "cell_type": "code",
   "execution_count": 25,
   "id": "777c7089",
   "metadata": {},
   "outputs": [],
   "source": [
    "# 3\n",
    "\n",
    "def is_consonant(x):\n",
    "    if type(x) == str:\n",
    "        if len(x) == 1 and not is_vowel(x):\n",
    "            return True\n",
    "        else:\n",
    "            return False\n",
    "    else: \n",
    "        return False\n",
    "            "
   ]
  },
  {
   "cell_type": "code",
   "execution_count": 30,
   "id": "66d1479e",
   "metadata": {},
   "outputs": [
    {
     "data": {
      "text/plain": [
       "True"
      ]
     },
     "execution_count": 30,
     "metadata": {},
     "output_type": "execute_result"
    }
   ],
   "source": [
    "is_consonant('d')"
   ]
  },
  {
   "cell_type": "code",
   "execution_count": 41,
   "id": "1cf1642e",
   "metadata": {},
   "outputs": [],
   "source": [
    "# 4\n",
    "\n",
    "def cap_begining_consonant(word):\n",
    "    if is_consonant(word[0]):\n",
    "        return word.capitalize()\n",
    "    else:\n",
    "        return word"
   ]
  },
  {
   "cell_type": "code",
   "execution_count": 44,
   "id": "c64ec2e9",
   "metadata": {},
   "outputs": [
    {
     "data": {
      "text/plain": [
       "'Hi'"
      ]
     },
     "execution_count": 44,
     "metadata": {},
     "output_type": "execute_result"
    }
   ],
   "source": [
    "cap_begining_consonant('hi')"
   ]
  },
  {
   "cell_type": "code",
   "execution_count": 7,
   "id": "68cbf1d1",
   "metadata": {},
   "outputs": [
    {
     "name": "stdout",
     "output_type": "stream",
     "text": [
      "How much is your bill? 100\n",
      "What percent of your bill would you like to tip? 0.2\n"
     ]
    },
    {
     "data": {
      "text/plain": [
       "20.0"
      ]
     },
     "execution_count": 7,
     "metadata": {},
     "output_type": "execute_result"
    }
   ],
   "source": [
    "# 5. Define a function named calculate_tip.\n",
    "## It should accept a tip percentage \n",
    "## (a number between 0 and 1) and the bill total, \n",
    "## and return the amount to tip.\n",
    "\n",
    "bill_total = int(input('How much is your bill? '))\n",
    "\n",
    "tip = float(input('What percent of your bill would you like to tip? '))\n",
    "\n",
    "def calculate_tip(x):\n",
    "    return x * tip\n",
    "\n",
    "calculate_tip(bill_total)\n",
    "\n"
   ]
  },
  {
   "cell_type": "code",
   "execution_count": 10,
   "id": "0b8d9d10",
   "metadata": {},
   "outputs": [],
   "source": [
    "# 6. Define a function named apply_discount. \n",
    "## It should accept a original price, and a \n",
    "## discount percentage, and return the price \n",
    "## after the discount is applied.\n",
    "\n",
    "\n",
    "def apply_discount(x):\n",
    "    discount = 0.20\n",
    "    return x - (x * discount)"
   ]
  },
  {
   "cell_type": "code",
   "execution_count": 11,
   "id": "17a7f1ed",
   "metadata": {},
   "outputs": [
    {
     "data": {
      "text/plain": [
       "80.0"
      ]
     },
     "execution_count": 11,
     "metadata": {},
     "output_type": "execute_result"
    }
   ],
   "source": [
    "apply_discount(100)"
   ]
  },
  {
   "cell_type": "code",
   "execution_count": 34,
   "id": "69888ccb",
   "metadata": {},
   "outputs": [],
   "source": [
    "# 7. Define a function named handle_commas. \n",
    "## It should accept a string that is a number \n",
    "## that contains commas in it as input, and \n",
    "## return a number as output.\n",
    "\n",
    "def handle_commas(x):\n",
    "    my_number = x.replace(',','')\n",
    "    return int(my_number)"
   ]
  },
  {
   "cell_type": "code",
   "execution_count": 36,
   "id": "faff58df",
   "metadata": {},
   "outputs": [
    {
     "name": "stdout",
     "output_type": "stream",
     "text": [
      "10000000\n"
     ]
    }
   ],
   "source": [
    "print(handle_commas('1,00,000,00'))"
   ]
  },
  {
   "cell_type": "code",
   "execution_count": 58,
   "id": "24361c61",
   "metadata": {},
   "outputs": [
    {
     "data": {
      "text/plain": [
       "'C'"
      ]
     },
     "execution_count": 58,
     "metadata": {},
     "output_type": "execute_result"
    }
   ],
   "source": [
    "# 8. Define a function named get_letter_grade. \n",
    "## It should accept a number and return the \n",
    "## letter grade associated with that number (A-F).\n",
    "                    \n",
    "                    \n",
    "def get_letter_grade(grade):\n",
    "    if grade >= 90 and x <= 100:\n",
    "        return 'A'\n",
    "    elif grade >= 80 and x < 90:\n",
    "        return 'B'\n",
    "    elif grade >= 70 and x < 80:\n",
    "        return 'C'\n",
    "    elif grade >= 60 and x < 70:\n",
    "        return 'D'\n",
    "    elif grade < 60:\n",
    "        return 'F'\n",
    "    \n",
    "get_letter_grade(70)"
   ]
  },
  {
   "cell_type": "code",
   "execution_count": 89,
   "id": "09c4365d",
   "metadata": {},
   "outputs": [],
   "source": [
    "# 9. Define a function named remove_vowels \n",
    "## that accepts a string and returns a string \n",
    "## with all the vowels removed.\n",
    "\n",
    "def remove_vowels(word):\n",
    "    no_vowels = ''\n",
    "    for x in word: \n",
    "        if is_vowel(x):\n",
    "            continue\n",
    "        else:\n",
    "            no_vowels += x\n",
    "    return no_vowels"
   ]
  },
  {
   "cell_type": "code",
   "execution_count": 90,
   "id": "d7ad8cf1",
   "metadata": {},
   "outputs": [
    {
     "data": {
      "text/plain": [
       "'hll'"
      ]
     },
     "execution_count": 90,
     "metadata": {},
     "output_type": "execute_result"
    }
   ],
   "source": [
    "remove_vowels('hello')"
   ]
  },
  {
   "cell_type": "code",
   "execution_count": 152,
   "id": "7cd5a7fd",
   "metadata": {},
   "outputs": [],
   "source": [
    "# 10. \n",
    "\n",
    "def normalize_name(name):\n",
    "    new_name = ''\n",
    "    for n in name:\n",
    "        if n.isdigit() or n.isalpha() or n == ' ':\n",
    "            new_name += n\n",
    "    return new_name.strip().lower().replace(' ','_')\n"
   ]
  },
  {
   "cell_type": "code",
   "execution_count": 154,
   "id": "7aa8f347",
   "metadata": {},
   "outputs": [
    {
     "data": {
      "text/plain": [
       "'adriana_nuncio'"
      ]
     },
     "execution_count": 154,
     "metadata": {},
     "output_type": "execute_result"
    }
   ],
   "source": [
    "normalize_name('   Adriana Nuncio   ')"
   ]
  },
  {
   "cell_type": "code",
   "execution_count": 165,
   "id": "e845a289",
   "metadata": {},
   "outputs": [],
   "source": [
    "# 11.\n",
    "import numpy\n",
    "def cumulative_sum(some_list):\n",
    "    return numpy.cumsum(some_list)"
   ]
  },
  {
   "cell_type": "code",
   "execution_count": 166,
   "id": "3f039d0d",
   "metadata": {},
   "outputs": [
    {
     "data": {
      "text/plain": [
       "array([ 1,  5, 10, 18])"
      ]
     },
     "execution_count": 166,
     "metadata": {},
     "output_type": "execute_result"
    }
   ],
   "source": [
    "cumulative_sum([1, 4, 5, 8])"
   ]
  },
  {
   "cell_type": "code",
   "execution_count": null,
   "id": "92bcbad3",
   "metadata": {},
   "outputs": [],
   "source": []
  }
 ],
 "metadata": {
  "kernelspec": {
   "display_name": "Python 3 (ipykernel)",
   "language": "python",
   "name": "python3"
  },
  "language_info": {
   "codemirror_mode": {
    "name": "ipython",
    "version": 3
   },
   "file_extension": ".py",
   "mimetype": "text/x-python",
   "name": "python",
   "nbconvert_exporter": "python",
   "pygments_lexer": "ipython3",
   "version": "3.9.13"
  }
 },
 "nbformat": 4,
 "nbformat_minor": 5
}
